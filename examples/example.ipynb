{
 "cells": [
  {
   "cell_type": "code",
   "execution_count": 2,
   "metadata": {},
   "outputs": [],
   "source": [
    "from src.hyperprompt.core import hyperprompt"
   ]
  },
  {
   "cell_type": "code",
   "execution_count": 15,
   "metadata": {},
   "outputs": [],
   "source": [
    "from typing import List\n",
    "\n",
    "@hyperprompt\n",
    "def greeting_template(user_role: str, language: str):\n",
    "    match language:\n",
    "        case \"English\":\n",
    "            greeting = \"Hello, {name}!\"\n",
    "        case \"Spanish\":\n",
    "            greeting = \"¡Hola, {name}!\"    \n",
    "    \n",
    "    role_info = \"You have {tasks} tasks pending\" if user_role == \"admin\" else None\n",
    "    footer = \"Have a great day!\""
   ]
  },
  {
   "cell_type": "code",
   "execution_count": 16,
   "metadata": {},
   "outputs": [
    {
     "name": "stdout",
     "output_type": "stream",
     "text": [
      "['name', 'tasks']\n",
      "Hello, Alice!\n",
      "You have 5 tasks pending\n",
      "Have a great day!\n",
      "['name']\n",
      "¡Hola, Carlos!\n",
      "Have a great day!\n"
     ]
    }
   ],
   "source": [
    "template, placeholders = greeting_template(user_role=\"admin\", language=\"English\")\n",
    "print(placeholders) # ['name', 'tasks']\n",
    "\n",
    "final_prompt = template.format(name=\"Alice\", tasks=\"5\")\n",
    "print(final_prompt) # Hello, Alice! You have 5 tasks pending. Have a great day!\n",
    "\n",
    "template, placeholders = greeting_template(user_role=\"user\", language=\"Spanish\")\n",
    "print(placeholders) # ['name']\n",
    "\n",
    "final_prompt = template.format(name=\"Carlos\") \n",
    "print(final_prompt) # Hello, Carlos! Have a great day!"
   ]
  }
 ],
 "metadata": {
  "kernelspec": {
   "display_name": "Python 3",
   "language": "python",
   "name": "python3"
  },
  "language_info": {
   "codemirror_mode": {
    "name": "ipython",
    "version": 3
   },
   "file_extension": ".py",
   "mimetype": "text/x-python",
   "name": "python",
   "nbconvert_exporter": "python",
   "pygments_lexer": "ipython3",
   "version": "3.10.14"
  }
 },
 "nbformat": 4,
 "nbformat_minor": 2
}
